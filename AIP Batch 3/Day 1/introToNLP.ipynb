{
 "cells": [
  {
   "cell_type": "markdown",
   "metadata": {},
   "source": [
    "### Natural Language Processing"
   ]
  },
  {
   "cell_type": "markdown",
   "metadata": {},
   "source": [
    "Natural Language Processing (NLP) is a field of Artificial Intelligence that focuses on enabling computers to understand, interpret, and generate human language. It involves tasks like text classification, tokenization, stemming, tagging, parsing, and semantic analysis.\n",
    "\n",
    "NLTK (Natural Language Toolkit) is a powerful Python library used for learning and building NLP applications. It provides access to over 50 language corpora and tools for processing text. It’s beginner-friendly, open source, and widely used in both education and industry.\n",
    "\n",
    "📗📗 Book Recommendation:\n",
    "    \n",
    "    Natural Language Processing with Python "
   ]
  },
  {
   "cell_type": "markdown",
   "metadata": {},
   "source": [
    "📚  Popular Libraries For NLP\n",
    "    1 NLTK (Natural Language ToolKit)\n",
    "        - Ease of understanding for beginners\n",
    "    2 spaCy\n",
    "        - Very fast and efficient\n",
    "    3 TextBlob\n",
    "        - Simple Syntax. \n",
    "        - Beginner friendly\n",
    "    4 Tranformer (by Hugging face)\n",
    "        - Pre Trained Models\n",
    "        - Handle Complex"
   ]
  }
 ],
 "metadata": {
  "language_info": {
   "name": "python"
  }
 },
 "nbformat": 4,
 "nbformat_minor": 2
}
