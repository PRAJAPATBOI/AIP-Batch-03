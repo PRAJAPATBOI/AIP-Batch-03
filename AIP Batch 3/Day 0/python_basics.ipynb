{
 "cells": [
  {
   "cell_type": "markdown",
   "metadata": {},
   "source": [
    "# Python:"
   ]
  },
  {
   "cell_type": "markdown",
   "metadata": {},
   "source": [
    "Python is a popular computer language that's easy to understand and use. It was created by Guido van Rossum and first came out in 1991."
   ]
  },
  {
   "cell_type": "markdown",
   "metadata": {},
   "source": [
    "# FEATURES OF PYTHON:"
   ]
  },
  {
   "cell_type": "markdown",
   "metadata": {},
   "source": [
    "1. Easy-to-read syntax\n",
    "2. Readability and conciseness\n",
    "3. Widespread use in various domains, including web development, data analysis, artificial intelligence, and machine learning\n",
    "4. High-level, interpreted language\n",
    "5. Strong built-in data types and libraries"
   ]
  },
  {
   "cell_type": "markdown",
   "metadata": {},
   "source": [
    "# FEW APPLICATIONS OF PYTHON:"
   ]
  },
  {
   "cell_type": "markdown",
   "metadata": {},
   "source": [
    "1. Web development (Django, Flask)\n",
    "2. Data analysis (Pandas, NumPy)\n",
    "3. Artificial intelligence (Scikit-learn, TensorFlow)\n",
    "4. Machine learning (Scikit-learn, TensorFlow)"
   ]
  },
  {
   "cell_type": "markdown",
   "metadata": {},
   "source": [
    "# Identifiers or Varaibles in Python"
   ]
  },
  {
   "cell_type": "markdown",
   "metadata": {},
   "source": [
    "<b>Identifiers in Python:</b>\n",
    "Identifiers are special names given to various elements in a Python program. They serve as labels to easily find and use different entities. \n",
    "\n",
    "<b>Variables:</b>\n",
    "Variables are like boxes where you can store information. Each variable has a name and can hold different values. All types of varaibles in python is called as object. A Varaible is an identifiers whose values can be change during execution of problem"
   ]
  },
  {
   "cell_type": "markdown",
   "metadata": {},
   "source": [
    "#### Declaration: Creating a variable involves giving it a name and assigning a value to it."
   ]
  },
  {
   "cell_type": "code",
   "execution_count": 1,
   "metadata": {},
   "outputs": [],
   "source": [
    "age = 25\n",
    "height = 6.3\n",
    "name = \"Alice\""
   ]
  },
  {
   "cell_type": "markdown",
   "metadata": {},
   "source": [
    "\n",
    "# Operators :"
   ]
  },
  {
   "cell_type": "markdown",
   "metadata": {},
   "source": [
    "Operators in Python are used to perform operations on variables and values. The main types include:\n",
    "\n",
    "Arithmetic Operators (+, -, *, /, //, %, **)\n",
    "\n",
    "Comparison Operators (==, !=, >, <, >=, <=)\n",
    "\n",
    "Logical Operators (and, or, not)\n",
    "\n",
    "Bitwise Operators (&, |, ^, ~, <<, >>)\n",
    "\n",
    "Assignment Operators (=, +=, -=, *=, /=, //=, %=, **=, &=, |=, ^=, >>=, <<=)\n",
    "\n",
    "Identity Operators (is, is not)\n",
    "\n",
    "Membership Operators (in, not in)"
   ]
  },
  {
   "cell_type": "code",
   "execution_count": 2,
   "metadata": {},
   "outputs": [
    {
     "name": "stdout",
     "output_type": "stream",
     "text": [
      "13 7 30 3.3333333333333335 3 1 1000\n",
      "True False False True\n",
      "False True False\n",
      "2 11 9 -11 20 5\n",
      "15\n",
      "False True\n",
      "True True\n"
     ]
    }
   ],
   "source": [
    "# Arithmetic Operators\n",
    "a, b = 10, 3\n",
    "print(a + b, a - b, a * b, a / b, a // b, a % b, a ** b)  \n",
    "\n",
    "# Comparison Operators\n",
    "print(a > b, a < b, a == b, a != b)\n",
    "\n",
    "# Logical Operators\n",
    "x, y = True, False\n",
    "print(x and y, x or y, not x)\n",
    "\n",
    "# Bitwise Operators\n",
    "print(a & b, a | b, a ^ b, ~a, a << 1, a >> 1)\n",
    "\n",
    "# Assignment Operators\n",
    "a += 5\n",
    "print(a)  \n",
    "\n",
    "# Identity Operators\n",
    "print(a is b, a is not b)\n",
    "\n",
    "# Membership Operators\n",
    "lst = [1, 2, 3, 4, 5]\n",
    "print(3 in lst, 6 not in lst)\n"
   ]
  },
  {
   "cell_type": "markdown",
   "metadata": {},
   "source": [
    "# Data Types"
   ]
  },
  {
   "cell_type": "markdown",
   "metadata": {},
   "source": [
    "Data types refer to basic building blocks for storing and manipulating data within a program. These data types are considered fundamental because they represent the most basic forms of data that Python can work with. Each fundamental data type can store only one value at a time.\n",
    "\n",
    "<b>Integer (int):</b>\n",
    "Represents whole numbers, both positive and negative, without any decimal point.\n",
    "Example: x = 10\n",
    "\n",
    "<b>Float (float):</b>\n",
    "Represents floating-point numbers, which include decimal points or scientific notation.\n",
    "Example: y = 3.14\n",
    "\n",
    "<b>Boolean (bool):</b>\n",
    "Represents logical values, either True or False.\n",
    "Example: is_valid = True\n",
    "\n",
    "<b>Complex (complex):</b>\n",
    "Represents complex numbers, consisting of a real part and an imaginary part.\n",
    "Example: z = 3 + 2j\n",
    "\n",
    "<b>String (str):</b>\n",
    "Represents sequences of characters, enclosed within single ('') or double (\"\") quotes.\n",
    "Example: name = 'John'\n"
   ]
  },
  {
   "cell_type": "markdown",
   "metadata": {},
   "source": [
    "# Sequential Data Types:"
   ]
  },
  {
   "cell_type": "markdown",
   "metadata": {},
   "source": [
    "Sequencential data types are used to store multiple items in an ordered manner. The main sequence data types include:\n",
    "\n",
    "\n",
    "<b>Str (str):</b>\n",
    " Represents sequences of characters, enclosed within single ('') or double (\"\") quotes.\n",
    " Example: name = 'John'\n",
    "\n",
    "<b>List (list):</b>\n",
    " Allows storing multiple items in a single variable. Lists are ordered and can contain duplicate values.\n",
    " Example: numbers = [1, 2, 3, 4, 5]\n",
    "\n",
    " <b>Tuple (tuple):</b>\n",
    " Similar to lists, but they are immutable, meaning they cannot be changed once they are created. Tuples are ordered and can contain duplicate values.\n",
    " Example: colors = ('red', 'green', 'blue')\n",
    "\n",
    " <b>Set (set):</b>\n",
    " Stores unique items in an unordered manner. Sets are mutable and do not allow duplicate values.\n",
    " Example: fruits = {'apple', 'banana', 'cherry'}\n",
    "\n",
    " <b>Dictionary (dict):</b>\n",
    " Stores key-value pairs in an unordered manner. Dictionaries are mutable and allow duplicate keys.\n",
    " Example: person = {'name': 'Alice', 'age': 25, 'city': 'New York'}"
   ]
  },
  {
   "cell_type": "code",
   "execution_count": 3,
   "metadata": {},
   "outputs": [
    {
     "name": "stdout",
     "output_type": "stream",
     "text": [
      "HELLO WORLD\n",
      "hello Python\n",
      "['hello', 'world']\n"
     ]
    }
   ],
   "source": [
    "# String methods\n",
    "s = \"hello world\"\n",
    "print(s.upper())       # Converts to uppercase\n",
    "print(s.replace(\"world\", \"Python\"))  # Replaces substring\n",
    "print(s.split())       # Splits into a list"
   ]
  },
  {
   "cell_type": "code",
   "execution_count": 4,
   "metadata": {},
   "outputs": [
    {
     "name": "stdout",
     "output_type": "stream",
     "text": [
      "[1, 2, 3, 4, 5]\n",
      "[1, 3, 4, 5]\n",
      "1\n"
     ]
    }
   ],
   "source": [
    "# List methods\n",
    "lst = [1, 2, 3, 4]\n",
    "lst.append(5)          # Adds an element\n",
    "print(lst)\n",
    "lst.remove(2)          # Removes an element\n",
    "print(lst)\n",
    "print(lst.index(3))    # Finds index of an element"
   ]
  },
  {
   "cell_type": "code",
   "execution_count": 5,
   "metadata": {},
   "outputs": [
    {
     "name": "stdout",
     "output_type": "stream",
     "text": [
      "2\n",
      "2\n"
     ]
    }
   ],
   "source": [
    "# Tuple methods\n",
    "tup = (10, 20, 30, 20)\n",
    "print(tup.count(20))   # Counts occurrences of an element\n",
    "print(tup.index(30))   # Finds index of an element"
   ]
  },
  {
   "cell_type": "code",
   "execution_count": 6,
   "metadata": {},
   "outputs": [
    {
     "name": "stdout",
     "output_type": "stream",
     "text": [
      "{1, 2, 3, 4}\n",
      "{1, 3, 4}\n",
      "{1, 3, 4, 5, 6}\n"
     ]
    }
   ],
   "source": [
    "# Set methods\n",
    "s = {1, 2, 3}\n",
    "s.add(4)               # Adds an element\n",
    "print(s)\n",
    "s.remove(2)            # Removes an element\n",
    "print(s)\n",
    "print(s.union({5, 6})) # Unites two sets"
   ]
  },
  {
   "cell_type": "code",
   "execution_count": 7,
   "metadata": {},
   "outputs": [
    {
     "name": "stdout",
     "output_type": "stream",
     "text": [
      "dict_keys(['name', 'age'])\n",
      "dict_values(['Alice', 25])\n",
      "{'name': 'Alice', 'age': 25, 'city': 'New York'}\n"
     ]
    }
   ],
   "source": [
    "# Dictionary methods\n",
    "d = {\"name\": \"Alice\", \"age\": 25}\n",
    "print(d.keys())        # Gets all keys\n",
    "print(d.values())      # Gets all values\n",
    "d.update({\"city\": \"New York\"})  # Adds a new key-value pair\n",
    "print(d)"
   ]
  },
  {
   "cell_type": "markdown",
   "metadata": {},
   "source": [
    "# Conditional statements :"
   ]
  },
  {
   "cell_type": "markdown",
   "metadata": {},
   "source": [
    "Conditional statements in Python are used to execute different blocks of code based on certain conditions. The main conditional statements are:\n",
    "\n",
    "if – Executes a block if the condition is True.\n",
    "\n",
    "elif (else if) – Checks another condition if the previous one is False.\n",
    "\n",
    "else – Executes if none of the conditions are True."
   ]
  },
  {
   "cell_type": "code",
   "execution_count": 8,
   "metadata": {},
   "outputs": [
    {
     "name": "stdout",
     "output_type": "stream",
     "text": [
      "Positive number\n",
      "Hello, Alice!\n"
     ]
    }
   ],
   "source": [
    "# Taking a number input\n",
    "num = 10\n",
    "\n",
    "# Conditional statements\n",
    "if num > 0:\n",
    "    print(\"Positive number\")\n",
    "elif num < 0:\n",
    "    print(\"Negative number\")\n",
    "else:\n",
    "    print(\"Zero\")\n",
    "\n",
    "# Another example with strings\n",
    "name = \"Alice\"\n",
    "if name == \"Alice\":\n",
    "    print(\"Hello, Alice!\")\n",
    "else:\n",
    "    print(\"You are not Alice!\")"
   ]
  },
  {
   "cell_type": "markdown",
   "metadata": {},
   "source": [
    "# Loops :"
   ]
  },
  {
   "cell_type": "markdown",
   "metadata": {},
   "source": [
    "Loops in Python are used to execute a block of code multiple times. The main types of loops are:\n",
    "\n",
    "for loop – Iterates over a sequence (list, tuple, string, etc.).\n",
    "\n",
    "while loop – Repeats as long as a condition is True."
   ]
  },
  {
   "cell_type": "code",
   "execution_count": 9,
   "metadata": {},
   "outputs": [
    {
     "name": "stdout",
     "output_type": "stream",
     "text": [
      "1\n",
      "2\n",
      "3\n",
      "4\n",
      "5\n"
     ]
    }
   ],
   "source": [
    "# For loop example\n",
    "for i in range(1, 6):\n",
    "    print(i)  # Prints numbers from 1 to 5"
   ]
  },
  {
   "cell_type": "code",
   "execution_count": 10,
   "metadata": {},
   "outputs": [
    {
     "name": "stdout",
     "output_type": "stream",
     "text": [
      "1\n",
      "2\n",
      "3\n",
      "4\n",
      "5\n"
     ]
    }
   ],
   "source": [
    "# While loop example\n",
    "x = 1\n",
    "while x <= 5:\n",
    "    print(x)\n",
    "    x += 1  # Increments x until it reaches 5"
   ]
  },
  {
   "cell_type": "markdown",
   "metadata": {},
   "source": [
    "# Functions :"
   ]
  },
  {
   "cell_type": "markdown",
   "metadata": {},
   "source": [
    "Functions in Python are reusable blocks of code that perform a specific task. They help in code organization and reusability.\n",
    "\n",
    "Types of Functions in Python:\n",
    "Built-in functions (e.g., print(), len(), type())\n",
    "\n",
    "User-defined functions (defined using def)"
   ]
  },
  {
   "cell_type": "code",
   "execution_count": 11,
   "metadata": {},
   "outputs": [
    {
     "name": "stdout",
     "output_type": "stream",
     "text": [
      "5\n",
      "150\n",
      "50\n",
      "10\n"
     ]
    }
   ],
   "source": [
    "# Built-in functions\n",
    "numbers = [10, 20, 30, 40, 50]\n",
    "\n",
    "print(len(numbers))  # Built-in: Returns length of the list\n",
    "print(sum(numbers))  # Built-in: Returns sum of elements\n",
    "print(max(numbers))  # Built-in: Returns max value\n",
    "print(min(numbers))  # Built-in: Returns min value"
   ]
  },
  {
   "cell_type": "code",
   "execution_count": 12,
   "metadata": {},
   "outputs": [
    {
     "name": "stdout",
     "output_type": "stream",
     "text": [
      "15\n"
     ]
    }
   ],
   "source": [
    "# User-defined function\n",
    "def multiply(a, b):\n",
    "    return a * b\n",
    "\n",
    "print(multiply(5, 3))  # Calling the user-defined function"
   ]
  },
  {
   "cell_type": "code",
   "execution_count": 13,
   "metadata": {},
   "outputs": [
    {
     "name": "stdout",
     "output_type": "stream",
     "text": [
      "Sum : 8\n"
     ]
    }
   ],
   "source": [
    "def add_numbers(a, b):\n",
    "    return a + b\n",
    "\n",
    "result = add_numbers(3, 5)\n",
    "print(\"Sum :\", result)"
   ]
  },
  {
   "cell_type": "markdown",
   "metadata": {},
   "source": [
    "# "
   ]
  },
  {
   "cell_type": "markdown",
   "metadata": {},
   "source": [
    "# IMPORTANT TOPIC : List Comprehensions"
   ]
  },
  {
   "cell_type": "markdown",
   "metadata": {},
   "source": []
  },
  {
   "cell_type": "markdown",
   "metadata": {},
   "source": [
    "List comprehension is a concise way to create lists in Python using a single line of code.\n",
    "\n",
    "Syntax:\n",
    "\n",
    "    new_list = [expression for item in iterable if condition]  \n",
    "    "
   ]
  },
  {
   "cell_type": "code",
   "execution_count": 14,
   "metadata": {},
   "outputs": [
    {
     "name": "stdout",
     "output_type": "stream",
     "text": [
      "[1, 4, 9, 16, 25]\n"
     ]
    }
   ],
   "source": [
    "# Creating a list of squares using list comprehension\n",
    "squares = [x**2 for x in range(1, 6)]\n",
    "print(squares)  # Output: [1, 4, 9, 16, 25]"
   ]
  },
  {
   "cell_type": "code",
   "execution_count": 15,
   "metadata": {},
   "outputs": [
    {
     "name": "stdout",
     "output_type": "stream",
     "text": [
      "['H', 'E', 'L', 'L', 'O']\n"
     ]
    }
   ],
   "source": [
    "# Creating a list of uppercase characters from a string\n",
    "chars = [char.upper() for char in \"hello\"]\n",
    "print(chars)  # Output: ['H', 'E', 'L', 'L', 'O']"
   ]
  },
  {
   "cell_type": "markdown",
   "metadata": {},
   "source": [
    "# Exception handling :"
   ]
  },
  {
   "cell_type": "markdown",
   "metadata": {},
   "source": [
    "Exception handling in Python is used to handle errors and exceptions that may occur during the execution of a program.\n",
    "\n",
    "Types of exceptions in Python:\n",
    "\n",
    "SyntaxError – Error in the syntax of the program.\n",
    "\n",
    "NameError – Error when a variable is not found in the current scope.\n",
    "\n",
    "TypeError – Error when an operation or function is applied to an object of inappropriate type.\n",
    "\n",
    "ZeroDivisionError – Error when trying to divide by zero."
   ]
  },
  {
   "cell_type": "code",
   "execution_count": 19,
   "metadata": {},
   "outputs": [
    {
     "name": "stdout",
     "output_type": "stream",
     "text": [
      "Result: 2.0\n",
      "No errors occurred.\n",
      "Execution complete.\n"
     ]
    }
   ],
   "source": [
    "try:\n",
    "    num = int(input(\"Enter a number: \"))  # May raise ValueError\n",
    "    result = 10 / num  # May raise ZeroDivisionError\n",
    "    print(\"Result:\", result)\n",
    "except ValueError:\n",
    "    print(\"Invalid input! Please enter a number.\")\n",
    "except ZeroDivisionError:\n",
    "    print(\"Cannot divide by zero!\")\n",
    "else:\n",
    "    print(\"No errors occurred.\")\n",
    "finally:\n",
    "    print(\"Execution complete.\")\n"
   ]
  },
  {
   "cell_type": "markdown",
   "metadata": {},
   "source": [
    "# File handling :"
   ]
  },
  {
   "cell_type": "markdown",
   "metadata": {},
   "source": [
    "File handling in Python allows reading, writing, and manipulating files using built-in functions.\n",
    "\n",
    "File Modes:\n",
    "\"r\" → Read (default mode, file must exist)\n",
    "\n",
    "\"w\" → Write (overwrites existing content, creates new if not exists)\n",
    "\n",
    "\"a\" → Append (adds content without deleting existing data)\n",
    "\n",
    "\"r+\" → Read & Write\n",
    "\n",
    "\"w+\" → Write & Read (clears file before writing)\n",
    "\n",
    "\"a+\" → Append & Read"
   ]
  },
  {
   "cell_type": "code",
   "execution_count": 20,
   "metadata": {},
   "outputs": [
    {
     "name": "stdout",
     "output_type": "stream",
     "text": [
      "File Content:\n",
      " Hello, this is a test file.\n",
      "Python file handling is easy!\n",
      "\n",
      "Updated File Content:\n",
      " Hello, this is a test file.\n",
      "Python file handling is easy!\n",
      "Appending new content.\n"
     ]
    }
   ],
   "source": [
    "# Writing to a file\n",
    "with open(\"sample.txt\", \"w\") as file:\n",
    "    file.write(\"Hello, this is a test file.\\n\")\n",
    "    file.write(\"Python file handling is easy!\")\n",
    "\n",
    "# Reading from a file\n",
    "with open(\"sample.txt\", \"r\") as file:\n",
    "    content = file.read()\n",
    "    print(\"File Content:\\n\", content)\n",
    "\n",
    "# Appending to a file\n",
    "with open(\"sample.txt\", \"a\") as file:\n",
    "    file.write(\"\\nAppending new content.\")\n",
    "\n",
    "# Reading after appending\n",
    "with open(\"sample.txt\", \"r\") as file:\n",
    "    print(\"\\nUpdated File Content:\\n\", file.read())"
   ]
  },
  {
   "cell_type": "code",
   "execution_count": null,
   "metadata": {},
   "outputs": [],
   "source": []
  }
 ],
 "metadata": {
  "kernelspec": {
   "display_name": "Python 3 (ipykernel)",
   "language": "python",
   "name": "python3"
  },
  "language_info": {
   "codemirror_mode": {
    "name": "ipython",
    "version": 3
   },
   "file_extension": ".py",
   "mimetype": "text/x-python",
   "name": "python",
   "nbconvert_exporter": "python",
   "pygments_lexer": "ipython3",
   "version": "3.10.9"
  }
 },
 "nbformat": 4,
 "nbformat_minor": 2
}
